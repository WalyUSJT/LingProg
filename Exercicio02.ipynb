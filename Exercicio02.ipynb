{
 "cells": [
  {
   "cell_type": "markdown",
   "metadata": {},
   "source": [
    "Exercícios02 - Lista de Exercícios de Python\n",
    " \n",
    "### Nome: Walysson Feitosa dos Santos RA:816121847"
   ]
  },
  {
   "cell_type": "markdown",
   "metadata": {},
   "source": [
    "#### 5 Escreva um programa que conta a quantidade de vogais em uma string e armazena tal quantidade em um dicionário, onde a chave é a vogal considerada."
   ]
  },
  {
   "cell_type": "code",
   "execution_count": 1,
   "metadata": {},
   "outputs": [
    {
     "name": "stdout",
     "output_type": "stream",
     "text": [
      "Escreva uma frase: Frase de teste\n",
      "{'A': 1, 'E': 4}\n"
     ]
    }
   ],
   "source": [
    "from itertools import product as i\n",
    "\n",
    "dicionario = {}\n",
    "lista_vogal=['A', 'E', 'I', 'O', 'U']\n",
    "\n",
    "frase = input(\"Escreva uma frase: \")\n",
    "frase_nova= frase.upper()\n",
    "\n",
    "for vogal, lista_vogal in i(lista_vogal, frase_nova):\n",
    "    if vogal in lista_vogal:\n",
    "        quantidade = frase_nova.count(vogal)\n",
    "        dicionario[vogal] = quantidade\n",
    "        \n",
    "print(dicionario)"
   ]
  },
  {
   "cell_type": "markdown",
   "metadata": {},
   "source": [
    "#### 6 Escreva um programa que lê̂ duas notas de vários alunos e armazena tais notas em um dicionário, onde a chave é o nome do aluno. \n",
    "A entrada de dados deve terminar quando for lida uma string vazia como nome. Escreva uma função que retorna a média do aluno, dado seu nome."
   ]
  },
  {
   "cell_type": "code",
   "execution_count": null,
   "metadata": {},
   "outputs": [],
   "source": [
    "dicionario = {}\n",
    "\n",
    "while(True):\n",
    "    aluno = input(\"Coloque o nome do aluno: \")\n",
    "    aluno_m = aluno.upper()\n",
    "    if(aluno != \"\"):\n",
    "        n1 = float(input(\"Coloque a primeira nota: \"))\n",
    "        n2 = float(input(\"Coloque a segunda nota: \"))\n",
    "        notas = [n1, n2]\n",
    "        dicionario[aluno_m] = notas\n",
    "    else:\n",
    "        break\n",
    "        \n",
    "def mediaAluno(nome):\n",
    "    nome_m = nome.upper()\n",
    "    lista = dicionario[nome_m]\n",
    "    media = sum(lista)/len(lista)\n",
    "    return(print(\"A média desse aluno é: %.2f\" %(media)))\n",
    "\n",
    "mediaAluno('Lincoln')"
   ]
  },
  {
   "cell_type": "markdown",
   "metadata": {},
   "source": [
    "#### 7 Uma pista de Kart permite 10 voltas para cada um de 6 corredores.\n",
    "Escreva um programa que leia todos os tempos em segundos e os guarde em um dicionário, onde a chave é o nome do corredor. Ao final diga de quem foi a melhor volta da prova e em que volta; e ainda a classificação final em ordem (1o o campeão). O campeão é o que tem a menor média de tempos."
   ]
  },
  {
   "cell_type": "code",
   "execution_count": null,
   "metadata": {},
   "outputs": [],
   "source": [
    "from operator import itemgetter as item\n",
    "\n",
    "rally = {'Corredor1':[125, 115, 104, 97, 115, 111, 95, 97, 80, 100], \n",
    "         'Corredor2':[150,140,145,110,123,118,114,85,102,110], \n",
    "         'Corredor3':[160,110,112,110,111,152,141,84,114,102], \n",
    "         'Corredor4':[111,222,445,155,175,145,121,114,115,114], \n",
    "         'Corredor5':[152,84,122,114,116,170,154,121,112,145], \n",
    "         'Corredor6':[142,138,144,122,111,111,115,122,12,74]}\n",
    "\n",
    "melhorVolta = []\n",
    "pilotos = []\n",
    "classificacao = []\n",
    "\n",
    "for x in rally.values():\n",
    "    melhorVolta.append(min(x))\n",
    "    classificacao.append(int(sum(x) / 6))\n",
    "\n",
    "for indice, valor in enumerate(rally):\n",
    "    pilotos.append(valor)\n",
    "\n",
    "classificacao.sort()\n",
    "print(\"Melhor volta\", min(melhorVolta), \"segundos\")\n",
    "campeonato = {pilotos[0]:classificacao[0], \n",
    "              pilotos[1]:classificacao[1], \n",
    "              pilotos[2]:classificacao[2],\n",
    "              pilotos[3]:classificacao[3],\n",
    "              pilotos[4]:classificacao[4],\n",
    "              pilotos[5]:classificacao[5]}    \n",
    "\n",
    "print(\"Classificação do Campeonato:\")\n",
    "sorted(campeonato.items(), key=item(1))"
   ]
  },
  {
   "cell_type": "markdown",
   "metadata": {},
   "source": [
    "### 8 Escreva um programa para armazenar uma agenda de telefones em um dicionário.\n",
    "Cada pessoa pode ter um ou mais telefones e a chave do dicionário é o nome da\n",
    "pessoa. Seu programa deve ter as seguintes funções:\n",
    "- incluirNovoNome – essa função acrescenta um novo nome na agenda, com um ou\n",
    "mais telefones. Ela deve receber como argumentos o nome e os telefones.\n",
    "- incluirTelefone – essa função acrescenta um telefone em um nome existente na\n",
    "agenda. Caso o nome não exista na agenda, você̂deve perguntar se a pessoa deseja\n",
    "inclui-lo. Caso a resposta seja afirmativa, use a função anterior para incluir o novo\n",
    "nome.\n",
    "- excluirTelefone – essa função exclui um telefone de uma pessoa que já está na\n",
    "agenda. Se a pessoa tiver apenas um telefone, ela deve ser excluída da agenda.\n",
    "- excluirNome – essa função exclui uma pessoa da agenda.\n",
    "- consultarTelefone – essa função retorna os telefones de uma pessoa na agenda."
   ]
  },
  {
   "cell_type": "code",
   "execution_count": null,
   "metadata": {},
   "outputs": [],
   "source": [
    "listaTelefonica = {'Paulo':[51212727, 54323355], 'Jorge':[55510202], 'Lincoln':[78945678, 456134321]}\n",
    "\n",
    "def incluirNovoNome(novoNome, novoTelefone): \n",
    "    listaTelefonica.update({novoNome:[telefone]})\n",
    "    \n",
    "def incluirTelefone(buscaNome, novoTelefone):\n",
    "    listaTelefonica.update({buscaNome:[novoTelefone]})\n",
    "\n",
    "def excluirTelefone(excluiTelefone):\n",
    "    del(listaTelefonica[excluiTelefone])\n",
    "    \n",
    "def excluirNome(excluiNome):\n",
    "    listaTelefonica.pop(excluiNome)\n",
    "    \n",
    "def consultarTelefone(nome):\n",
    "    print(listaTelefonica[nome])\n",
    "\n",
    "nome = input(\"Digite o nome\")\n",
    "telefone = input(\"Digite o(s) telefone(s)\")\n",
    "incluirNovoNome(nome, telefone)\n",
    "\n",
    "nome = input(\"Digite o nome\")\n",
    "telefone = input(\"Digite o(s) telefone(s)\")\n",
    "incluirTelefone(nome, telefone)\n",
    "\n",
    "telefone = input(\"Digite o(s) telefone(s)\")\n",
    "excluirTelefone(telefone)\n",
    "\n",
    "nome = input(\"Digite o nome\")\n",
    "excluirNome(nome)\n",
    "\n",
    "nome = input(\"Digite o nome\")\n",
    "consultarTelefone(nome)\n",
    "\n",
    "print(listaTelefonica)"
   ]
  },
  {
   "cell_type": "code",
   "execution_count": null,
   "metadata": {},
   "outputs": [],
   "source": []
  }
 ],
 "metadata": {
  "kernelspec": {
   "display_name": "Python 3",
   "language": "python",
   "name": "python3"
  },
  "language_info": {
   "codemirror_mode": {
    "name": "ipython",
    "version": 3
   },
   "file_extension": ".py",
   "mimetype": "text/x-python",
   "name": "python",
   "nbconvert_exporter": "python",
   "pygments_lexer": "ipython3",
   "version": "3.7.6"
  }
 },
 "nbformat": 4,
 "nbformat_minor": 2
}
