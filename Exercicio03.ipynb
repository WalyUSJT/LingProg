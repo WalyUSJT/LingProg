{
 "cells": [
  {
   "cell_type": "markdown",
   "metadata": {},
   "source": [
    "Exercícios - 03 - Lista de exercicios de python \n",
    "\n",
    "### Walysson Feitosa dos Santos - 816121847"
   ]
  },
  {
   "cell_type": "markdown",
   "metadata": {},
   "source": [
    "### Assunto: if, elif, else – for – while – operadores – list comprehensions"
   ]
  },
  {
   "cell_type": "markdown",
   "metadata": {},
   "source": [
    "#### Desvio Condicional\n",
    "\n",
    "#### 1. Faça um Programa que peça dois números e imprima o maior deles."
   ]
  },
  {
   "cell_type": "code",
   "execution_count": 2,
   "metadata": {},
   "outputs": [
    {
     "name": "stdout",
     "output_type": "stream",
     "text": [
      "Adicione um número: 5\n",
      "Adicione outro número: 8\n",
      "O maior valor entre 5.00 e 8.00 é: 8.00\n"
     ]
    }
   ],
   "source": [
    "a = float(input(\"Adicione o primeiro número: \"))\n",
    "b = float(input(\"Adicione o segundo número: \"))\n",
    "lst = [a, b]\n",
    "print(\"O maior valor entre %1.2f e %1.2f é: %1.2f\" %(a, b, max(lst)))"
   ]
  },
  {
   "cell_type": "markdown",
   "metadata": {},
   "source": [
    "#### 2. Faça um Programa que verifique se uma letra digitada é vogal ou consoante."
   ]
  },
  {
   "cell_type": "code",
   "execution_count": 3,
   "metadata": {},
   "outputs": [
    {
     "name": "stdout",
     "output_type": "stream",
     "text": [
      "Adicione uma letra: t\n",
      "t é uma consoante!\n"
     ]
    }
   ],
   "source": [
    "a = input(\"Adicione uma letra: \")\n",
    "if(len(a) > 1):\n",
    "    print('Digite apenas uma letra!')\n",
    "elif(a.upper() == 'A' or a.upper() == 'E' or a.upper() == 'I' or a.upper() == 'O' or a.upper() == 'U'):\n",
    "    print(f'{a} é uma vogal!')\n",
    "else:\n",
    "    print(f'{a} é uma consoante!')"
   ]
  },
  {
   "cell_type": "markdown",
   "metadata": {},
   "source": [
    "##### 3. Faça um programa para a leitura de duas notas parciais de um aluno. O programa\n",
    "deve calcular a média alcançada por aluno e apresentar:\n",
    "- A mensagem \"Aprovado\", se a média alcançada for maior ou igual a sete;\n",
    "- A mensagem \"Reprovado\", se a média for menor do que sete;\n",
    "- A mensagem \"Aprovado com Distinção\", se a média for igual a dez."
   ]
  },
  {
   "cell_type": "code",
   "execution_count": 4,
   "metadata": {},
   "outputs": [
    {
     "name": "stdout",
     "output_type": "stream",
     "text": [
      "Adicione a primeira nota: 10\n",
      "Adicione a segunda nota: 5\n",
      "Média: 7.50 - Status: Aprovado!\n"
     ]
    }
   ],
   "source": [
    "x = float(input(\"Adicione a primeira nota: \"))\n",
    "y = float(input(\"Adicione a segunda nota: \"))\n",
    "lst = [x, y]\n",
    "Mensagem = ['Aprovado!', 'Reprovado!', 'Aprovado com Distinção!']\n",
    "average = (sum(lst)/len(lst))\n",
    "\n",
    "if average == 10:\n",
    "    print(\"Média: %.2f - Status: %s\" %(average, Mensagem[2]))\n",
    "elif average>= 7 and average < 10:\n",
    "    print(\"Média: %.2f - Status: %s\" %(average, Mensagem[0]))\n",
    "elif average < 7:\n",
    "    print(\"Média: %.2f - Status: %s\" %(average, Mensagem[1]))"
   ]
  },
  {
   "cell_type": "markdown",
   "metadata": {},
   "source": [
    "#### 4. Faça um Programa que leia três números e mostre-os em ordem decrescente."
   ]
  },
  {
   "cell_type": "code",
   "execution_count": 5,
   "metadata": {},
   "outputs": [
    {
     "name": "stdout",
     "output_type": "stream",
     "text": [
      "Adicione um número: 5\n",
      "Adicione outro número: 8\n",
      "Adicione mais um número: 9\n",
      "[9.0, 8.0, 5.0]\n"
     ]
    }
   ],
   "source": [
    "a = float(input(\"Adicione um número: \"))\n",
    "b = float(input(\"Adicione outro número: \"))\n",
    "c = float(input(\"Adicione mais um número: \"))\n",
    "lst = [a, b, c]\n",
    "lst.sort(reverse = True)\n",
    "print(lst)"
   ]
  },
  {
   "cell_type": "markdown",
   "metadata": {},
   "source": [
    "#### 5. As Organizações Tabajara resolveram dar um aumento de salário aos seus\n",
    "colaboradores e lhe contrataram para desenvolver o programa que calculará os\n",
    "reajustes.\n",
    "Faça um programa que recebe o salário de um colaborador e o reajuste segundo o\n",
    "seguinte critério, baseado no salário atual:\n",
    "- salários até 280,00 (incluindo) : aumento de 20%\n",
    "- salários entre  280,00 e  700,00 : aumento de 15%\n",
    "- salários entre  700,00 e  1500,00 : aumento de 10%\n",
    "- salários de R$ 1500,00 em diante : aumento de 5% Após o aumento ser realizado,\n",
    "informe na tela:\n",
    "- o salário antes do reajuste;\n",
    "- o percentual de aumento aplicado;\n",
    "- o valor do aumento;\n",
    "- o novo salário, após o aumento."
   ]
  },
  {
   "cell_type": "code",
   "execution_count": 6,
   "metadata": {},
   "outputs": [
    {
     "name": "stdout",
     "output_type": "stream",
     "text": [
      "Adicione o valor do salário: 2000\n",
      "\n",
      "\n",
      "salario antigo = 2000.00\n",
      "------------------------------\n",
      "percentual aplicado = 5.00\n",
      "------------------------------\n",
      "valor do aumento = 100.00\n",
      "------------------------------\n",
      "novo salario = 2100.00\n",
      "------------------------------\n"
     ]
    }
   ],
   "source": [
    "salario = float(input(\"Adicione o valor do salário: \"))\n",
    "reajuste = [1.20, 1.15, 1.10, 1.05]\n",
    "labels = ['salario antigo', 'percentual aplicado', 'valor do aumento', 'novo salario']\n",
    "x = 0\n",
    "\n",
    "if(salario <= 280):\n",
    "    y = 0\n",
    "elif(salario > 280 and salario <= 700):\n",
    "    y = 1\n",
    "elif(salario > 700 and salario <= 1500):\n",
    "    y = 2\n",
    "else:\n",
    "    y = 3\n",
    "    \n",
    "novo_salario = salario * reajuste[y]\n",
    "percentual = ((1 - reajuste[y])*100)*(-1)\n",
    "vlr_aumento = novo_salario - salario\n",
    "labels_v = [salario, percentual, vlr_aumento, novo_salario]\n",
    "\n",
    "while x <= 3:\n",
    "    if x == 0:\n",
    "        print('\\n')\n",
    "        print(f'{labels[x]} = %.2f' %(labels_v[x]))\n",
    "        print(30*'-')\n",
    "    else:\n",
    "        print(f'{labels[x]} = %.2f' %(labels_v[x]))\n",
    "        print(30*'-')\n",
    "    x += 1\n",
    "salario = novo_salario"
   ]
  },
  {
   "cell_type": "markdown",
   "metadata": {},
   "source": [
    "#### 6. Faça um Programa que leia um número e exiba o dia correspondente da semana.\n",
    "(1-Domingo, 2- Segunda, etc.), se digitar outro valor deve aparecer valor inválido."
   ]
  },
  {
   "cell_type": "code",
   "execution_count": 7,
   "metadata": {},
   "outputs": [
    {
     "name": "stdout",
     "output_type": "stream",
     "text": [
      "Adicione o dia da semana: 5\n",
      "O dia da semana digitado equivale à: Quinta-feira\n"
     ]
    }
   ],
   "source": [
    "dia = int(input(\"Adicione o dia da semana: \"))\n",
    "lst_semana = {1:'Domingo', 2:'Segunda-feira', 3:'Terça-feira', 4:'Quarta-feira', 5:'Quinta-feira', \n",
    "              6:'Sexta-feira', 7:'Sábado'}\n",
    "if dia > 7:\n",
    "    print(\"Intervalo inválido!\")\n",
    "else:\n",
    "    print(\"O dia da semana digitado equivale à: {}\".format(lst_semana[dia]))"
   ]
  },
  {
   "cell_type": "markdown",
   "metadata": {},
   "source": [
    "#### 7. Faça um programa que lê as duas notas parciais obtidas por um aluno numa\n",
    "disciplina ao longo de um semestre, e calcule a sua média. A atribuição de conceitos\n",
    "obedece à tabela abaixo:\n",
    "Média de Aproveitamento Conceito:\n",
    "\n",
    "Entre 9.0 e 10.0 A\n",
    "\n",
    "Entre 7.5 e 9.0 B\n",
    "\n",
    "Entre 6.0 e 7.5 C\n",
    "\n",
    "Entre 4.0 e 6.0 D\n",
    "\n",
    "Entre 4.0 e zero E\n",
    "\n",
    "O algoritmo deve mostrar na tela as notas, a média, o conceito correspondente e a\n",
    "mensagem “APROVADO” se o conceito for A, B ou C ou “REPROVADO” se o conceito\n",
    "for D ou E."
   ]
  },
  {
   "cell_type": "code",
   "execution_count": 8,
   "metadata": {},
   "outputs": [
    {
     "name": "stdout",
     "output_type": "stream",
     "text": [
      "Adicione a nota 1: 10\n",
      "Adicione a nota 2: 8\n",
      "------------------------------\n",
      "Nota 1: 10.0 \n",
      "Nota 2: 8.0 \n",
      "Média: 9.0 \n",
      "Conceito: Entre 9.0 e 10.0 \n",
      "Resultado: A \n",
      "Mensagem: Aprovado!\n"
     ]
    }
   ],
   "source": [
    "n1 = float(input(\"Adicione a nota 1: \"))\n",
    "n2 = float(input(\"Adicione a nota 2: \"))\n",
    "notas = [n1, n2]\n",
    "media = sum(notas)/len(notas)\n",
    "conceito = {'Entre 9.0 e 10.0':'A', 'Entre 7.5 e 9.0':'B',\n",
    "            'Entre 6.0 e 7.5':'C',\n",
    "            'Entre 4.0 e 6.0':'D','Entre 4.0 e zero':'E' }\n",
    "status = list(conceito.values())\n",
    "conceito_usado = list(conceito.keys())\n",
    "\n",
    "if(media < 0 or media > 10):\n",
    "    print(\"Média inválida!\")\n",
    "    status = ['Inválido!']\n",
    "    conceito_usado = ['Inválido!']\n",
    "    y = 0\n",
    "elif(media >= 0 and media < 4):\n",
    "    y = 4\n",
    "elif(media >= 4 and media < 6):\n",
    "    y = 3\n",
    "elif(media >= 6 and media < 7.5):\n",
    "    y = 2\n",
    "elif(media >= 7.5 and media < 9):\n",
    "    y = 1\n",
    "else:\n",
    "    y = 0\n",
    "    \n",
    "conceito_fim = status[y]\n",
    "desc = conceito_usado[y]\n",
    "\n",
    "if(conceito_fim == 'Inválido!'):\n",
    "    mensagem = 'Média inválida!'\n",
    "elif(conceito_fim == 'A' or conceito_fim == 'B' or conceito_fim == 'C'):\n",
    "    mensagem = \"Aprovado!\"\n",
    "else:\n",
    "    mensagem = \"Reprovado!\"\n",
    "    \n",
    "print(30*'-')   \n",
    "print(f\"Nota 1: {n1} \\nNota 2: {n2} \\nMédia: {media} \\nConceito: {desc} \\nResultado: {conceito_fim} \\nMensagem: {mensagem}\")"
   ]
  },
  {
   "cell_type": "markdown",
   "metadata": {},
   "source": [
    "#### 8. Faça um Programa que peça os 3 lados de um triângulo. O programa deverá\n",
    "informar se os valores podem ser um triângulo. Indique, caso os lados formem um\n",
    "triângulo, se o mesmo é: equilátero, isósceles ou escaleno.\n",
    "Dicas:\n",
    "\n",
    "- Três lados formam um triângulo quando a soma de quaisquer dois lados for maior\n",
    "que o terceiro;\n",
    "\n",
    "- Triângulo Equilátero: três lados iguais;\n",
    "\n",
    "- Triângulo Isósceles: quaisquer dois lados iguais;\n",
    "\n",
    "- Triângulo Escaleno: três lados diferentes;"
   ]
  },
  {
   "cell_type": "code",
   "execution_count": 10,
   "metadata": {},
   "outputs": [
    {
     "name": "stdout",
     "output_type": "stream",
     "text": [
      "Adicione o lado 1 da figura: 5\n",
      "Adicione o lado 2 da figura: 4\n",
      "Adicione o lado 3 da figura: 6\n",
      "É um triângulo do tipo Escaleno\n"
     ]
    }
   ],
   "source": [
    "def soma(a,b):\n",
    "    return a + b\n",
    "\n",
    "l1 = float(input(\"Adicione o lado 1 da figura: \"))\n",
    "l2 = float(input(\"Adicione o lado 2 da figura: \"))\n",
    "l3 = float(input(\"Adicione o lado 3 da figura: \"))\n",
    "tipo = ['Equilátero', 'Isósceles', 'Escaleno']\n",
    "\n",
    "if(soma(l1,l2) > l3 or soma(l1,l3) > l2 or soma(l2,l3) > l1):\n",
    "    if(l1 == l2 and l1 == l3 and l2 == l3):\n",
    "        print(\"É um triângulo do tipo %s\" %(tipo[0]))\n",
    "    elif(l1 == l2 or l1 == l3 or l2 == l3):\n",
    "        print(\"É um triângulo do tipo %s\" %(tipo[1]))\n",
    "    else:\n",
    "        print(\"É um triângulo do tipo %s\" %(tipo[2]))\n",
    "else:\n",
    "    print(\"Não é um triângulo!\")"
   ]
  },
  {
   "cell_type": "markdown",
   "metadata": {},
   "source": [
    "#### 9. Faça um programa que calcule as raízes de uma equação do segundo grau, na forma ax2 + bx + c. O programa deverá pedir os valores de a, b e c e fazer as consistências, informando ao usuário nas seguintes situações:\n",
    "- Se o usuário informar o valor de A igual a zero, a equação não é do segundo grau e\n",
    "o programa não deve fazer pedir os demais valores, sendo encerrado;\n",
    "- Se o delta calculado for negativo, a equação não possui raizes reais. Informe ao\n",
    "usuário e encerre o programa;\n",
    "- Se o delta calculado for igual a zero a equação possui apenas uma raiz real;\n",
    "informe-a ao usuário;\n",
    "- Se o delta for positivo, a equação possui duas raiz reais; informe-as ao usuário;"
   ]
  },
  {
   "cell_type": "code",
   "execution_count": 11,
   "metadata": {},
   "outputs": [
    {
     "name": "stdout",
     "output_type": "stream",
     "text": [
      "Adicione o valor de 'a': 5\n",
      "Adicione o valor de 'b': 8\n",
      "Adicione o valor de 'c': 9\n",
      "A equação não possui raízes reais.\n"
     ]
    }
   ],
   "source": [
    "def delta(a,b,c):\n",
    "    delta_v = (b ** 2 - 4 * a * c)\n",
    "    return delta_v\n",
    "\n",
    "def raiz(a,b,vl_delta):\n",
    "    if(vl_delta == 0):\n",
    "        vlr_raiz = (-b / 2 * a)\n",
    "        return vlr_raiz\n",
    "    else:\n",
    "        x1 = ((-b + vl_delta ** 1/2) / (2 * a))\n",
    "        x2 = ((-b - vl_delta ** 1/2) / (2 * a))\n",
    "        return [x1, x2]\n",
    "\n",
    "a = 0\n",
    "\n",
    "while (a == 0):\n",
    "    a = float(input(\"Adicione o valor de 'a': \"))\n",
    "    if(a == 0):\n",
    "        print(\"O valor de 'a' não pode ser zero\")\n",
    "        break\n",
    "    else:\n",
    "        b = float(input(\"Adicione o valor de 'b': \"))\n",
    "        c = float(input(\"Adicione o valor de 'c': \"))\n",
    "        vlr_delta = delta(a,b,c)\n",
    "        if(vlr_delta < 0):\n",
    "            print(\"A equação não possui raízes reais.\")\n",
    "            break\n",
    "        elif(vlr_delta == 0):\n",
    "            raiz_func = raiz(a,b,vlr_delta)\n",
    "            print(\"A raíz da função é: %s\" %(raiz_func))\n",
    "        else:\n",
    "            raiz_funcao = raiz(a,b,vlr_delta)\n",
    "            print(\"As raízes da função são: %s\" %(raiz_funcao[:]))\n",
    "            "
   ]
  },
  {
   "cell_type": "markdown",
   "metadata": {},
   "source": [
    "#### 11. Faça um programa que faça 5 perguntas para uma pessoa sobre um crime. \n",
    "Asperguntas são:\n",
    "\"Telefonou para a vítima?\"\n",
    "\n",
    "\"Esteve no local do crime?\"\n",
    "\n",
    "\"Mora perto da vítima?\"\n",
    "\n",
    "\"Devia para a vítima?\"\n",
    "\n",
    "\"Já trabalhou com a vítima?\".\n",
    "\n",
    "O programa deve no final emitir uma classificação sobre a participação da pessoa no\n",
    "crime.\n",
    "Se a pessoa responder positivamente a 2 questões ela deve ser classificada\n",
    "como \"Suspeita\",entre 3 e 4 como \"Cúmplice\" e 5 como \"Assassino\". \n",
    "Caso contrário,ele será classificado como \"Inocente\"."
   ]
  },
  {
   "cell_type": "code",
   "execution_count": 17,
   "metadata": {},
   "outputs": [
    {
     "name": "stdout",
     "output_type": "stream",
     "text": [
      "Telefonou para a vítima? sim\n",
      "Esteve no local do crime? sim\n",
      "Mora perto da vítima? sim\n",
      "Devia para a vítima? sim\n",
      "Já trabalhou com a vítima? sim\n",
      "Classificação: Assassino\n"
     ]
    }
   ],
   "source": [
    "p1 = input(\"Telefonou para a vítima? \")\n",
    "p2 = input(\"Esteve no local do crime? \")\n",
    "p3 = input(\"Mora perto da vítima? \")\n",
    "p4 = input(\"Devia para a vítima? \")\n",
    "p5 = input(\"Já trabalhou com a vítima? \")\n",
    "\n",
    "resp = [p1.upper(), p2.upper(), p3.upper(), p4.upper(), p5.upper()]\n",
    "classificacao = ['Inocente', 'Suspeita', 'Cúmplice', 'Assassino']\n",
    "cont = 0\n",
    "\n",
    "for resposta in resp:\n",
    "    if(resposta == 'SIM'):\n",
    "        cont += 1\n",
    "\n",
    "if(cont < 2):\n",
    "    print('Classificação: %s' %(classificacao[0]))\n",
    "elif(cont >= 2 and cont < 3):\n",
    "    print('Classificação: %s' %(classificacao[1]))\n",
    "elif(cont >= 3 and cont <= 4):\n",
    "    print('Classificação: %s' %(classificacao[2]))\n",
    "else:\n",
    "    print('Classificação: %s' %(classificacao[3]))"
   ]
  },
  {
   "cell_type": "code",
   "execution_count": null,
   "metadata": {},
   "outputs": [],
   "source": []
  }
 ],
 "metadata": {
  "kernelspec": {
   "display_name": "Python 3",
   "language": "python",
   "name": "python3"
  },
  "language_info": {
   "codemirror_mode": {
    "name": "ipython",
    "version": 3
   },
   "file_extension": ".py",
   "mimetype": "text/x-python",
   "name": "python",
   "nbconvert_exporter": "python",
   "pygments_lexer": "ipython3",
   "version": "3.7.6"
  }
 },
 "nbformat": 4,
 "nbformat_minor": 2
}
