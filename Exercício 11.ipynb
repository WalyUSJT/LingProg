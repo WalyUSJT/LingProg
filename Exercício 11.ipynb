{
 "cells": [
  {
   "cell_type": "markdown",
   "metadata": {},
   "source": [
    "#### Construir uma calculadora que some 2 números e faça soma, subtração, divisão e multiplicação utilizando o máximo de programação funcional.\n",
    "\n",
    "### Walysson Feitosa dos Santos RA: 816121847"
   ]
  },
  {
   "cell_type": "code",
   "execution_count": null,
   "metadata": {},
   "outputs": [],
   "source": [
    "def calculate():\n",
    "    operation = input('''\n",
    "Por favor escolha um operador:\n",
    "+ para adição\n",
    "- para subtração \n",
    "* para multiplicação \n",
    "/ para divisão \n",
    "''')\n",
    "\n",
    "    number_1 = int(input('digite o primeiro número: '))\n",
    "    number_2 = int(input('Digite o segundo número: '))\n",
    "\n",
    "    if operation == '+':\n",
    "        print('{} + {} = '.format(number_1, number_2))\n",
    "        print(number_1 + number_2)\n",
    "\n",
    "    elif operation == '-':\n",
    "        print('{} - {} = '.format(number_1, number_2))\n",
    "        print(number_1 - number_2)\n",
    "\n",
    "    elif operation == '*':\n",
    "        print('{} * {} = '.format(number_1, number_2))\n",
    "        print(number_1 * number_2)\n",
    "\n",
    "    elif operation == '/':\n",
    "        print('{} / {} = '.format(number_1, number_2))\n",
    "        print(number_1 / number_2)\n",
    "\n",
    "    else:\n",
    "        print('Você não digitou um operador válido, execute o programa novamente.')\n",
    "\n",
    "    # Adicione a função again () para calcular a função ()\n",
    "    again()\n",
    "\n",
    "def again():\n",
    "    calc_again = input('''\n",
    "Deseja calcular novamente?\n",
    "\n",
    "Digite S para SIM ou N para NÃO.\n",
    "''')\n",
    "\n",
    "    if calc_again.upper() == 'S':\n",
    "        calculate()\n",
    "    elif calc_again.upper() == 'N':\n",
    "        print('Até Logo!!!.')\n",
    "    else:\n",
    "        again()\n",
    "\n",
    "calculate()"
   ]
  },
  {
   "cell_type": "code",
   "execution_count": null,
   "metadata": {},
   "outputs": [],
   "source": []
  }
 ],
 "metadata": {
  "kernelspec": {
   "display_name": "Python 3",
   "language": "python",
   "name": "python3"
  },
  "language_info": {
   "codemirror_mode": {
    "name": "ipython",
    "version": 3
   },
   "file_extension": ".py",
   "mimetype": "text/x-python",
   "name": "python",
   "nbconvert_exporter": "python",
   "pygments_lexer": "ipython3",
   "version": "3.7.6"
  }
 },
 "nbformat": 4,
 "nbformat_minor": 2
}
