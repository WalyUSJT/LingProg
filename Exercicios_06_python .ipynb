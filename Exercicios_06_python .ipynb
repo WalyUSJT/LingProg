{
 "cells": [
  {
   "cell_type": "markdown",
   "metadata": {},
   "source": [
    "##### Atividade 6 - Exercicios de python  -Assunto: Métodos, funções; args e kwargs; comandos aninhados e escopo de variáveis\n",
    "\n",
    "###  Walysson Feitosa dos Santos - 816121847"
   ]
  },
  {
   "cell_type": "markdown",
   "metadata": {},
   "source": [
    "1 Menor de dois pares: Escreva uma função que retorne o menor de dois números\n",
    "dados se ambos os números forem pares, mas retorna o maior se um dos dois for\n",
    "ímpar. Exemplo:\n",
    "menor_de_dois_pares(2,4) --> 2\n",
    "menor_de_dois_pares (2,5) --> 5"
   ]
  },
  {
   "cell_type": "code",
   "execution_count": 5,
   "metadata": {},
   "outputs": [
    {
     "name": "stdout",
     "output_type": "stream",
     "text": [
      "5\n",
      "9\n"
     ]
    }
   ],
   "source": [
    "def menorvalor(num1, num2):\n",
    "    if num1 % 2 == 0 and num2 % 2 == 0:\n",
    "        if num1 < num2:\n",
    "            return num1\n",
    "        else:\n",
    "            return num2\n",
    "    else:\n",
    "        if num1 > num2:\n",
    "            return num1\n",
    "        else:\n",
    "            return num2\n",
    "        \n",
    "print(menorvalor(5,1))\n",
    "print(menorvalor(2,9))"
   ]
  },
  {
   "cell_type": "markdown",
   "metadata": {},
   "source": [
    "2 Mesma letra: Escreva uma função que receba uma string com duas palavras e\n",
    "retorne True se ambas palavras começarem com a mesma letra. \n",
    "#### Exemplo:\n",
    "mesma_letra('Cão covarde') -> True \n",
    "\n",
    "\n",
    "mesma_letra('Vira Lata') -> False"
   ]
  },
  {
   "cell_type": "code",
   "execution_count": 7,
   "metadata": {},
   "outputs": [
    {
     "name": "stdout",
     "output_type": "stream",
     "text": [
      "Adicione uma palavra: lincoln\n",
      "Adicione outra palavra: freitas\n",
      "False\n"
     ]
    }
   ],
   "source": [
    "def palavras(lista1,lista2):\n",
    "    l1 = input(\"Adicione uma palavra: \")\n",
    "    l2 = input(\"Adicione outra palavra: \")\n",
    "\n",
    "    lista1 = list(l1)\n",
    "    lista2 = list(l2)\n",
    "    if lista1[0] == lista2[0]:\n",
    "        return True\n",
    "    else:\n",
    "        return False\n",
    "\n",
    "print(palavras(l1,l2))"
   ]
  },
  {
   "cell_type": "markdown",
   "metadata": {},
   "source": [
    "3 Mestre Yoda: Dada uma sentença, a função deve retornar a sentença com as\n",
    "palavras na ordem reversa. \n",
    "#### Exemplo:\n",
    "mestre_yoda('Eu estou em casa') --> 'casa em estou Eu'\n",
    "\n",
    "mestre_yoda('Estamos prontos') --> 'prontos Estamos'"
   ]
  },
  {
   "cell_type": "code",
   "execution_count": 6,
   "metadata": {},
   "outputs": [
    {
     "name": "stdout",
     "output_type": "stream",
     "text": [
      "Adicione um frase: colocando uma frase aqui !!!\n",
      "!!!\n",
      "aqui\n",
      "frase\n",
      "uma\n",
      "colocando\n",
      "\n",
      "None\n"
     ]
    }
   ],
   "source": [
    "def yoda(palavra):\n",
    "    y= len(palavra)\n",
    "    for x in range(0,y):\n",
    "        print(palavra[(y-x)-1])\n",
    "\n",
    "texto = input(\"Adicione um frase:\").split(\" \")\n",
    "\n",
    "print(yoda(texto))"
   ]
  },
  {
   "cell_type": "markdown",
   "metadata": {},
   "source": [
    "4 Tem 33: Faça uma função que retorne True se, dada uma lista de inteiros, houver\n",
    "em alguma posição da lista um 3 do lado de outro 3.\n",
    "#### Exemplo:\n",
    "tem_33([1,3,3]) --> True\n",
    "\n",
    "tem_33([1,3,1,3]) --> False\n",
    "\n",
    "tem_33([3,1,3]) --> False"
   ]
  },
  {
   "cell_type": "code",
   "execution_count": 1,
   "metadata": {},
   "outputs": [],
   "source": [
    "def tem33(lista):\n",
    "    for x in range(1,len(lista)-1):\n",
    "        if lista[x]==3:\n",
    "            if lista[x+1]==3:\n",
    "                return True\n",
    "    else:\n",
    "        return False\n",
    "    \n"
   ]
  },
  {
   "cell_type": "code",
   "execution_count": 2,
   "metadata": {},
   "outputs": [
    {
     "data": {
      "text/plain": [
       "True"
      ]
     },
     "execution_count": 2,
     "metadata": {},
     "output_type": "execute_result"
    }
   ],
   "source": [
    "lista=(3, 3, 3, 1, 1, 1, 3, 3, 3,3)\n",
    "tem33(lista)"
   ]
  },
  {
   "cell_type": "markdown",
   "metadata": {},
   "source": [
    "5 Blackjack: Faça uma função que receba 3 inteiros entre 1 e 11. Se a soma deles for\n",
    "menor que 21, retorne o valor da soma. Se for mair do que 21 e houver um 11,\n",
    "\n",
    "subtraia 10 da soma antes de apresentar o resultado. Se o valor da soma passar de\n",
    "21, retorne ‘ESTOUROU’. \n",
    "#### Exemplo:\n",
    "\n",
    "blackjack(5,6,7) --> 18\n",
    "\n",
    "blackjack(9,9,9) --> 'ESTOUROU'\n",
    "\n",
    "blackjack(9,9,11) --> 19"
   ]
  },
  {
   "cell_type": "code",
   "execution_count": 21,
   "metadata": {},
   "outputs": [],
   "source": [
    "def backjack(valor1, valor2, valor3):\n",
    "    if valor1+valor2+valor3 <= 21:\n",
    "        return print (valor1+valor2+valor3)\n",
    "    else:\n",
    "        if valor1 == 11:\n",
    "            valor1 = 1\n",
    "        elif valor2 == 11:\n",
    "            valor2 = 1\n",
    "        elif valor3 == 11:\n",
    "            valor3 = 1\n",
    "        \n",
    "        if valor1+valor2+valor3 <= 21:\n",
    "            return (print(valor1+valor2+valor3))\n",
    "        else:\n",
    "            return(\"ESTOUROOUUU!!!\")"
   ]
  },
  {
   "cell_type": "code",
   "execution_count": 22,
   "metadata": {},
   "outputs": [
    {
     "name": "stdout",
     "output_type": "stream",
     "text": [
      "14\n"
     ]
    }
   ],
   "source": [
    "backjack(3,11,10)"
   ]
  },
  {
   "cell_type": "markdown",
   "metadata": {},
   "source": [
    "6 Espião: Escreva uma função que receba uma lista de\n",
    "inteiros e retorne True se contém um 007 em ordem, mesmo\n",
    "que não contínuo. \n",
    "#### Exemplo:\n",
    "\n",
    "espiao([1,2,4,0,0,7,5]) --> True\n",
    "\n",
    "espiao([1,0,2,4,0,5,7]) --> True\n",
    "\n",
    "espiao([1,7,2,4,0,5,0]) --> False"
   ]
  },
  {
   "cell_type": "code",
   "execution_count": 23,
   "metadata": {},
   "outputs": [],
   "source": [
    "def espiao(lista):\n",
    "    for x in range(0,len(lista)):\n",
    "        if lista[x]==0:\n",
    "            y=x+1\n",
    "            for x in range(y,len(lista)):\n",
    "                if lista[x]==0:\n",
    "                    z=y+1\n",
    "                    for x in range(z,len(lista)):\n",
    "                        if lista[x]==7:\n",
    "                            return True\n",
    "    return False\n",
    "                      "
   ]
  },
  {
   "cell_type": "code",
   "execution_count": 24,
   "metadata": {},
   "outputs": [
    {
     "data": {
      "text/plain": [
       "True"
      ]
     },
     "execution_count": 24,
     "metadata": {},
     "output_type": "execute_result"
    }
   ],
   "source": [
    "lista= [5,0,0,5,8,0,7]\n",
    "espiao(lista)"
   ]
  }
 ],
 "metadata": {
  "kernelspec": {
   "display_name": "Python 3",
   "language": "python",
   "name": "python3"
  },
  "language_info": {
   "codemirror_mode": {
    "name": "ipython",
    "version": 3
   },
   "file_extension": ".py",
   "mimetype": "text/x-python",
   "name": "python",
   "nbconvert_exporter": "python",
   "pygments_lexer": "ipython3",
   "version": "3.7.6"
  }
 },
 "nbformat": 4,
 "nbformat_minor": 2
}
