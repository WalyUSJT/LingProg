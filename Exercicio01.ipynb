{
 "cells": [
  {
   "cell_type": "markdown",
   "metadata": {},
   "source": [
    "### Walysson Feitosa dos Santos - RA: 816121847\n",
    "\n",
    "#### Exercicios Praticos 01: Números e Operações Aritméticas"
   ]
  },
  {
   "cell_type": "markdown",
   "metadata": {},
   "source": [
    "#### 1 Faça um Programa que peça o raio de um círculo, calcule e mostre sua área."
   ]
  },
  {
   "cell_type": "code",
   "execution_count": 1,
   "metadata": {},
   "outputs": [
    {
     "name": "stdout",
     "output_type": "stream",
     "text": [
      "coloque o valor do raio: 54\n",
      "9160.884177867836\n"
     ]
    }
   ],
   "source": [
    "import math as m\n",
    "\n",
    "x = float(input(\"coloque o valor do raio: \"))\n",
    "area = m.pi * (x**2)\n",
    "print(area)"
   ]
  },
  {
   "cell_type": "markdown",
   "metadata": {},
   "source": [
    "#### 2 Faça um Programa que calcule a área de um quadrado, em seguida mostre o dobro desta área para o usuário."
   ]
  },
  {
   "cell_type": "code",
   "execution_count": 3,
   "metadata": {},
   "outputs": [
    {
     "name": "stdout",
     "output_type": "stream",
     "text": [
      "coloque o valor do lado do quadrado: 4\n",
      "32.0\n"
     ]
    }
   ],
   "source": [
    "x = float(input(\"coloque o valor do lado do quadrado: \"))\n",
    "area = 2* (x**2)\n",
    "print(area)"
   ]
  },
  {
   "cell_type": "markdown",
   "metadata": {},
   "source": [
    "#### 3 Faça um Programa que pergunte quanto você ganha por hora e o número de horas trabalhadas no mês. Calcule e mostre o total do seu salário no referido mês."
   ]
  },
  {
   "cell_type": "code",
   "execution_count": 5,
   "metadata": {},
   "outputs": [
    {
     "name": "stdout",
     "output_type": "stream",
     "text": [
      "coloque o valor da hora trabalhada: 25\n",
      "coloque o número de horas trabalhadas no mês : 44\n",
      "Salário total: R$ 1100.0\n"
     ]
    }
   ],
   "source": [
    "x = float(input(\"coloque o valor da hora trabalhada: \"))\n",
    "y = int(input(\"coloque o número de horas trabalhadas no mês : \"))\n",
    "total = x * y\n",
    "print(f'Salário total: R$ {total}')"
   ]
  },
  {
   "cell_type": "markdown",
   "metadata": {},
   "source": [
    "#### 4 Faça um Programa que peça a temperatura em graus Farenheit, transforme e mostre a temperatura em graus Celsius. C = (5 * (F-32) / 9)."
   ]
  },
  {
   "cell_type": "code",
   "execution_count": 6,
   "metadata": {},
   "outputs": [
    {
     "name": "stdout",
     "output_type": "stream",
     "text": [
      "coloque a temperatura em ºF: 35\n",
      "Temperatura em ºC: 1.6666666666666667\n"
     ]
    }
   ],
   "source": [
    "temperatura = float(input(\"coloque a temperatura em ºF: \"))\n",
    "C = (5 * (temperatura - 32)/9)\n",
    "print(f'Temperatura em ºC: {C}')"
   ]
  },
  {
   "cell_type": "markdown",
   "metadata": {},
   "source": [
    "#### 5 Faça um Programa que peça a temperatura em graus Celsius, transforme e mostre em graus Farenheit."
   ]
  },
  {
   "cell_type": "code",
   "execution_count": 8,
   "metadata": {},
   "outputs": [
    {
     "name": "stdout",
     "output_type": "stream",
     "text": [
      "coloque a temperatura em ºC: 0\n",
      "Temperatura em ºF: 32.0\n"
     ]
    }
   ],
   "source": [
    "temperatura = float(input(\"coloque a temperatura em ºC: \"))\n",
    "F = ((temperatura/5) * 9 + 32)\n",
    "print(f'Temperatura em ºF: {F}')"
   ]
  }
 ],
 "metadata": {
  "kernelspec": {
   "display_name": "Python 3",
   "language": "python",
   "name": "python3"
  },
  "language_info": {
   "codemirror_mode": {
    "name": "ipython",
    "version": 3
   },
   "file_extension": ".py",
   "mimetype": "text/x-python",
   "name": "python",
   "nbconvert_exporter": "python",
   "pygments_lexer": "ipython3",
   "version": "3.7.6"
  }
 },
 "nbformat": 4,
 "nbformat_minor": 2
}
