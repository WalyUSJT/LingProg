{
 "cells": [
  {
   "cell_type": "markdown",
   "metadata": {},
   "source": [
    "Exercícios07- Lista de Exercícios de Python\n",
    " \n",
    "###  Walysson Feitosa dos Santos - 816121847 "
   ]
  },
  {
   "cell_type": "markdown",
   "metadata": {},
   "source": [
    "##### 1 Linha: Crie a classe Linha que tem dois atributos, coordenada1 e coordenada2.\n",
    "##### Cada coordenada é uma tupla que carrega duas coordenadas cartesianas (x,y) que denotam pontos do segmento de reta. Faça métodos que calculem o comprimento do segmento de reta e sua inclinação."
   ]
  },
  {
   "cell_type": "code",
   "execution_count": 1,
   "metadata": {},
   "outputs": [
    {
     "name": "stdout",
     "output_type": "stream",
     "text": [
      "O resultado é, 25\n"
     ]
    }
   ],
   "source": [
    "class Linha:\n",
    "    def _init_(self,c1=1,c2=1):\n",
    "        self.c1 = c1\n",
    "        self.c2 = c2\n",
    "     \n",
    "    def calculo(self,c1,c2):\n",
    "        return (c1**2 + c2**2)**2\n",
    "    \n",
    "l = Linha()\n",
    "print(\"O resultado é,\", l.calculo(1,2))"
   ]
  },
  {
   "cell_type": "markdown",
   "metadata": {},
   "source": [
    "##### 2 Figuras: Crie a seguinte hierarquia de classes de figuras geométricas. Veja na figura as fórmulas:\n",
    "##### a. A classe abstrata Figura deve ter o método abstrato area.\n",
    "##### b. A classe concreta Circulo é subclasse de Figura.\n",
    "##### c. A classe abstrata Poligono é subclasse de Figura e deve ter os atributos base e altura .\n",
    "##### d. As classes concretas Triangulo, Losango, Retangulo e Quadrado são subclassesde Poligono. Tente criar mais uma generalização aqui olhando as fórmulas da área.\n",
    "##### e. Os polígonos Retangulo e Quadrado devem implementar a interface Diagonal, que deve ter um método que calcula a diagonal.\n",
    "##### f. Crie uma classe Geometria com uma lista de Figuras com pelo menos uma figura de cada e imprima suas áreas, perímetros e diagonais."
   ]
  },
  {
   "cell_type": "code",
   "execution_count": 4,
   "metadata": {},
   "outputs": [
    {
     "name": "stdout",
     "output_type": "stream",
     "text": [
      "28.26\n",
      "0.5\n"
     ]
    }
   ],
   "source": [
    "class Figuras:\n",
    "    def area(self):\n",
    "        pass\n",
    "    \n",
    "class Circulo(Figuras):\n",
    "    raio = 1\n",
    "    def _init_(self, raio):\n",
    "        self.raio = raio\n",
    "    \n",
    "    def area(self,raio):\n",
    "        return self.raio * 3.14 * 9\n",
    "    \n",
    "class Poligono(Figuras):\n",
    "    altura = 1\n",
    "    base = 1\n",
    "    def _init_(self, base, altura):\n",
    "        self.base = base\n",
    "        self.altura = altura\n",
    "        \n",
    "    def area(self,altura,base):\n",
    "        return self.altura * self.base / 2    \n",
    "        \n",
    "c = Circulo()\n",
    "p = Poligono()\n",
    "\n",
    "print(c.area(9))\n",
    "print(p.area(1,1))"
   ]
  },
  {
   "cell_type": "code",
   "execution_count": null,
   "metadata": {},
   "outputs": [],
   "source": []
  }
 ],
 "metadata": {
  "kernelspec": {
   "display_name": "Python 3",
   "language": "python",
   "name": "python3"
  },
  "language_info": {
   "codemirror_mode": {
    "name": "ipython",
    "version": 3
   },
   "file_extension": ".py",
   "mimetype": "text/x-python",
   "name": "python",
   "nbconvert_exporter": "python",
   "pygments_lexer": "ipython3",
   "version": "3.7.6"
  }
 },
 "nbformat": 4,
 "nbformat_minor": 2
}
