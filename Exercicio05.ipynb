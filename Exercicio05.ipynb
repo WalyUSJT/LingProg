{
 "cells": [
  {
   "cell_type": "markdown",
   "metadata": {},
   "source": [
    "Exercicio 05 - Continuação da lista de exercicios \n",
    "\n",
    "### Walysson Feitosa dos Santos - 816121847"
   ]
  },
  {
   "cell_type": "markdown",
   "metadata": {},
   "source": [
    "#### 12- Uma fruteira está vendendo frutas com a seguinte tabela de preços: \n",
    "#### Peso ---------- Até 5 Kg --------- Acima de 5 Kg \n",
    "#### Morango ---- 2,50 por Kg ------ 2,20 por Kg \n",
    "#### Maçã -------- 1,80 por Kg ------ 1,50 por Kg \n",
    "#### Se o cliente comprar mais de 8 Kg em frutas ou o valor total da compra ultrapassar R$ 25,00, receberá ainda um desconto de 10% sobre este total. \n",
    "#### Escreva um algoritmo para ler a quantidade (em Kg) de morangos e a quantidade (em Kg) de maças adquiridas e escreva o valor a ser pago pelo cliente. "
   ]
  },
  {
   "cell_type": "code",
   "execution_count": 1,
   "metadata": {},
   "outputs": [
    {
     "name": "stdout",
     "output_type": "stream",
     "text": [
      "Quantos kg de morango você deseja adquirir? 5\n",
      "Quantos kg de maçã você deseja adquirir? 8\n",
      "************************************************************\n",
      "Quantidade de Morangos - KG: 5.0 \t Preco: R$ 11.0 \n",
      "Quantidade de Maçãs - KG: 8.0 \t\t Preco: R$ 12.0 \n",
      "Desconto: 10 % \n",
      "Preço final da compra: R$ 20.70\n"
     ]
    }
   ],
   "source": [
    "def preco_morango(kilos):\n",
    "    if(kilos < 5):\n",
    "        return kilos * 2.50\n",
    "    else:\n",
    "        return kilos * 2.20\n",
    "\n",
    "def preco_maca(kilos):\n",
    "    if(kilos < 5):\n",
    "        return kilos * 1.80\n",
    "    else:\n",
    "        return kilos * 1.50\n",
    "\n",
    "def soma(morango, maca):\n",
    "    return morango + maca\n",
    "\n",
    "morango = float(input(\"Quantos kg de morango você deseja adquirir? \"))\n",
    "maca = float(input(\"Quantos kg de maçã você deseja adquirir? \"))\n",
    "\n",
    "preco_mor = preco_morango(morango)\n",
    "preco_mac = preco_maca(maca)\n",
    "\n",
    "if(soma(morango, maca) >= 8 or soma(preco_mor, preco_mac) >= 25):\n",
    "    desconto = 0.10\n",
    "    preco_fim = soma(preco_mor, preco_mac) * (1 - desconto)\n",
    "else:\n",
    "    desconto = 0.00\n",
    "    preco_fim = soma(preco_mor, preco_mac)\n",
    "\n",
    "print(60 * '*' + '\\n'\n",
    "     + f'Quantidade de Morangos - KG: {morango} \\t Preco: R$ {preco_mor} \\n'\n",
    "     + f'Quantidade de Maçãs - KG: {maca} \\t\\t Preco: R$ {preco_mac} \\n'\n",
    "     + 'Desconto: %d %% \\n' %(desconto*100)\n",
    "     + 'Preço final da compra: R$ %.2f'%(preco_fim))"
   ]
  },
  {
   "cell_type": "markdown",
   "metadata": {},
   "source": [
    "### LOOPS \n",
    "#### 13- Faça um programa que peça uma nota, entre zero e dez. \n",
    "#### Mostre uma mensagem caso o valor seja inválido e continue pedindo até que o usuário informe um valor válido. "
   ]
  },
  {
   "cell_type": "code",
   "execution_count": 2,
   "metadata": {},
   "outputs": [
    {
     "name": "stdout",
     "output_type": "stream",
     "text": [
      "Insira uma nota entre 0 e 10: 11\n",
      "Valor inválido!\n",
      "Insira uma nota entre 0 e 10: -1\n",
      "Valor inválido!\n",
      "Insira uma nota entre 0 e 10: 2\n",
      "Válido!\n"
     ]
    }
   ],
   "source": [
    "while(True):\n",
    "    a = float(input(\"Insira uma nota entre 0 e 10: \"))\n",
    "    if(a < 0 or a > 10):\n",
    "        print(\"Valor inválido!\")\n",
    "        continue\n",
    "    else:\n",
    "        print(\"Válido!\")\n",
    "        break"
   ]
  },
  {
   "cell_type": "markdown",
   "metadata": {},
   "source": [
    "#### 13 NOVAMENTE- Faça um programa que leia e valide as seguintes informações: \n",
    "#### Nome: maior que 3 caracteres; \n",
    "#### Idade: entre 0 e 150; \n",
    "#### Salário: maior que zero; \n",
    "#### Sexo: 'f' ou 'm'; \n",
    "#### Estado Civil: 's', 'c', 'v', 'd'; "
   ]
  },
  {
   "cell_type": "code",
   "execution_count": 3,
   "metadata": {},
   "outputs": [
    {
     "name": "stdout",
     "output_type": "stream",
     "text": [
      "Adicione um nome com mais de 3 caracteres: Lincoln\n",
      "Nome: Lincoln - é válido!\n",
      "Adicione uma idade entre 0 e 150 anos: 151\n",
      "Adicione uma idade entre 0 e 150!\n",
      "Adicione uma idade entre 0 e 150 anos: 150\n",
      "Idade: 150 - é válida\n",
      "Adicione o valor de um salário: 200000\n",
      "Salário: 200000.0 - é válido\n",
      "Adicione um sexo do tipo 'm' ou 'f': m\n",
      "Sexo: m - é válido\n",
      "Adicione um estado civil do tipo 's', 'c', 'v', ou 'd': S\n",
      "Adicione apenas 's', 'c', 'v' ou 'd'!\n",
      "Adicione um estado civil do tipo 's', 'c', 'v', ou 'd': s\n",
      "Estado Civil: s - é válido\n"
     ]
    }
   ],
   "source": [
    "nome = \"\"\n",
    "idade = -1\n",
    "salario = -1\n",
    "sexo = \"a\"\n",
    "est_civil = \"\"\n",
    "\n",
    "while(len(nome) < 3):\n",
    "    nome = input(\"Adicione um nome com mais de 3 caracteres: \")\n",
    "    if(len(nome) < 3):\n",
    "        print(\"Adicione um nome maior do que 3 caracteres!\")\n",
    "        continue\n",
    "    else:\n",
    "        print(f'Nome: {nome} - é válido!')\n",
    "\n",
    "while(idade < 0 or idade > 150):\n",
    "    idade = int(input(\"Adicione uma idade entre 0 e 150 anos: \"))\n",
    "    if(idade < 0 or idade > 150):\n",
    "        print(\"Adicione uma idade entre 0 e 150!\")\n",
    "        continue\n",
    "    else:\n",
    "        print(f'Idade: {idade} - é válida')\n",
    "\n",
    "while(salario < 0):\n",
    "    salario = float(input('Adicione o valor de um salário: '))\n",
    "    if(salario < 0):\n",
    "        print(\"Adicione um salário maior que zero!\")\n",
    "        continue\n",
    "    else:\n",
    "        print(f'Salário: {salario} - é válido')\n",
    "        \n",
    "while(sexo != 'm' and sexo != 'f'):\n",
    "    sexo = input(\"Adicione um sexo do tipo 'm' ou 'f': \")\n",
    "    if(sexo != 'm' and sexo != 'f'):\n",
    "        print(\"Adicione apenas 'm' ou 'f'!\")\n",
    "        continue\n",
    "    else:\n",
    "        print(f'Sexo: {sexo} - é válido')\n",
    "\n",
    "while(est_civil != 's' and est_civil != 'c' and est_civil != 'v' and est_civil != 'd'):\n",
    "    est_civil = input(\"Adicione um estado civil do tipo 's', 'c', 'v', ou 'd': \")\n",
    "    if(est_civil != 's' and est_civil != 'c' and est_civil != 'v' and est_civil != 'd'):\n",
    "        print(\"Adicione apenas 's', 'c', 'v' ou 'd'!\")\n",
    "        continue\n",
    "    else:\n",
    "        print(f'Estado Civil: {est_civil} - é válido')"
   ]
  },
  {
   "cell_type": "markdown",
   "metadata": {},
   "source": [
    "#### 14- Faça um programa que leia 5 números e informe o maior número."
   ]
  },
  {
   "cell_type": "code",
   "execution_count": 5,
   "metadata": {},
   "outputs": [
    {
     "name": "stdout",
     "output_type": "stream",
     "text": [
      "Insira um número: 5\n",
      "Insira um número: 8\n",
      "Insira um número: 9\n",
      "Insira um número: 6\n",
      "Insira um número: 5\n",
      "O maior número dessa lista é: 9.0\n"
     ]
    }
   ],
   "source": [
    "a = 0\n",
    "lista = []\n",
    "\n",
    "while(a < 5):\n",
    "    n = float(input(\"Insira um número: \"))\n",
    "    lista.append(n)\n",
    "    a += 1\n",
    "\n",
    "print(\"O maior número dessa lista é: {}\".format(max(lista)))"
   ]
  },
  {
   "cell_type": "markdown",
   "metadata": {},
   "source": [
    "#### 15- Faça um programa que leia 5 números e informe a soma e a média dos números."
   ]
  },
  {
   "cell_type": "code",
   "execution_count": 6,
   "metadata": {},
   "outputs": [
    {
     "name": "stdout",
     "output_type": "stream",
     "text": [
      "Adicione um número: 8\n",
      "Adicione um número: 9\n",
      "Adicione um número: 65\n",
      "Adicione um número: 5\n",
      "Adicione um número: 2\n",
      "A soma dos números dessa lista é: 89.0 \n",
      "A média dos números dessa lista é: 17.8\n"
     ]
    }
   ],
   "source": [
    "a = 0\n",
    "lista2 = []\n",
    "\n",
    "while(a < 5):\n",
    "    n1 = float(input(\"Adicione um número: \"))\n",
    "    lista2.append(n1)\n",
    "    a += 1\n",
    "    \n",
    "print(\"A soma dos números dessa lista é: {} \\n\". format(sum(lista2))\n",
    "     + \"A média dos números dessa lista é: {}\". format((sum(lista2)/len(lista2))))"
   ]
  },
  {
   "cell_type": "markdown",
   "metadata": {},
   "source": [
    "#### 16- Faça um programa que imprima na tela apenas os números ímpares entre 1 e 50."
   ]
  },
  {
   "cell_type": "code",
   "execution_count": 7,
   "metadata": {},
   "outputs": [
    {
     "name": "stdout",
     "output_type": "stream",
     "text": [
      "1\n",
      "3\n",
      "5\n",
      "7\n",
      "9\n",
      "11\n",
      "13\n",
      "15\n",
      "17\n",
      "19\n",
      "21\n",
      "23\n",
      "25\n",
      "27\n",
      "29\n",
      "31\n",
      "33\n",
      "35\n",
      "37\n",
      "39\n",
      "41\n",
      "43\n",
      "45\n",
      "47\n",
      "49\n"
     ]
    }
   ],
   "source": [
    "nume = 0\n",
    "while(nume <= 50):\n",
    "    if(nume % 2 == 1):\n",
    "        print(nume)\n",
    "    nume += 1"
   ]
  },
  {
   "cell_type": "markdown",
   "metadata": {},
   "source": [
    "#### 17- Desenvolva um gerador de tabuada, capaz de gerar a tabuada de qualquer número inteiro entre 1 a 10. \n",
    "#### O usuário deve informar de qual numero ele deseja ver a tabuada. \n",
    "#### A saída deve ser conforme o exemplo abaixo: \n",
    "#### Tabuada de 5:\n",
    "#### 5 X 1 = 5\n",
    "#### 5 X 2 = 10\n",
    "#### ...\n",
    "#### 5 X 10 = 50"
   ]
  },
  {
   "cell_type": "code",
   "execution_count": 9,
   "metadata": {},
   "outputs": [
    {
     "name": "stdout",
     "output_type": "stream",
     "text": [
      "Adicione um número: 5\n",
      "Tabuada do numero adicionado \"5\":\n",
      "5 X 1 = 5\n",
      "5 X 2 = 10\n",
      "5 X 3 = 15\n",
      "5 X 4 = 20\n",
      "5 X 5 = 25\n",
      "5 X 6 = 30\n",
      "5 X 7 = 35\n",
      "5 X 8 = 40\n",
      "5 X 9 = 45\n",
      "5 X 10 = 50\n"
     ]
    }
   ],
   "source": [
    "valor = int(input(\"Adicione um número: \"))\n",
    "tabu = 1\n",
    "print(f'Tabuada do numero adicionado \"{valor}\":')\n",
    "while(tabu <= 10):\n",
    "    print('{} X {} = {}'.format(valor, tabu, (valor * tabu)))\n",
    "    tabu += 1\n",
    "    "
   ]
  },
  {
   "cell_type": "markdown",
   "metadata": {},
   "source": [
    "#### 18- A série de Fibonacci é formada pela seqüência 1,1,2,3,5,8,13,21,34,55,... \n",
    "#### Faça um programa capaz de gerar a série até o n−ésimo termo. "
   ]
  },
  {
   "cell_type": "code",
   "execution_count": 10,
   "metadata": {},
   "outputs": [
    {
     "name": "stdout",
     "output_type": "stream",
     "text": [
      "Adicione o n-ésimo termo: 1\n",
      "1\n"
     ]
    }
   ],
   "source": [
    "parada = int(input(\"Adicione o n-ésimo termo: \"))\n",
    "a = 0\n",
    "fibonacci = []\n",
    "\n",
    "while( a <= (parada - 1)):\n",
    "    if(a == 0 or x == 1):\n",
    "        fibonacci.append(1)\n",
    "        print(fibonacci[a])\n",
    "    else:\n",
    "        fib = fibonacci[a - 1] + fibonacci[a - 2]\n",
    "        fibonacci.append(fib)\n",
    "        print(fibonacci[a])\n",
    "    a += 1\n"
   ]
  },
  {
   "cell_type": "markdown",
   "metadata": {},
   "source": [
    "#### 19- Faça um programa que calcule o fatorial de um número inteiro fornecido pelo usuário. \n",
    "#### Ex.: 5!=5.4.3.2.1=120 "
   ]
  },
  {
   "cell_type": "code",
   "execution_count": 13,
   "metadata": {},
   "outputs": [
    {
     "name": "stdout",
     "output_type": "stream",
     "text": [
      "Adicione um número: 5\n",
      "O fatorial de \"5\" é: \"5\"\n",
      "O fatorial de \"5\" é: \"20\"\n",
      "O fatorial de \"5\" é: \"60\"\n",
      "O fatorial de \"5\" é: \"120\"\n",
      "O fatorial de \"5\" é: \"120\"\n"
     ]
    }
   ],
   "source": [
    "fat_num = int(input(\"Adicione um número: \"))\n",
    "fat_numero = fat_num\n",
    "numeros = []\n",
    "fatorial = 1\n",
    "\n",
    "while(fat_num > 0):\n",
    "    numeros.append(fat_num)\n",
    "    fat_num -= 1\n",
    "\n",
    "for n in numeros:\n",
    "    fatorial *= n\n",
    "\n",
    "    print(f'O fatorial de \"{fat_numero}\" é: \"{fatorial}\"')"
   ]
  },
  {
   "cell_type": "markdown",
   "metadata": {},
   "source": [
    "#### 20- O Sr. Manoel Joaquim possui uma grande loja de artigos de R$ 1,99, com cerca de 10 caixas. \n",
    "#### Para agilizar o cálculo de quanto cada cliente deve pagar ele desenvolveu um tabela que contém o número de itens que o cliente comprou e ao lado o valor da conta. \n",
    "#### Desta forma a atendente do caixa precisa apenas contar quantos itens o cliente está levando e olhar na tabela de preços. \n",
    "#### Você foi contratado para desenvolver o programa que monta esta tabela de preços, que conterá os preços de 1 até 50 produtos, conforme o exemplo abaixo: \n",
    "#### Lojas Quase Dois - Tabela de preços \n",
    "#### 1 - 1.99 \n",
    "#### 2 - 3.98 \n",
    "#### ... \n",
    "#### 50 - 99.50 "
   ]
  },
  {
   "cell_type": "code",
   "execution_count": 14,
   "metadata": {},
   "outputs": [
    {
     "name": "stdout",
     "output_type": "stream",
     "text": [
      "----------------------------------------\n",
      "Quantidade\t|\tPreco\n",
      "----------------------------------------\n",
      "1\t\t|\t1.99\n",
      "----------------------------------------\n",
      "2\t\t|\t3.98\n",
      "----------------------------------------\n",
      "3\t\t|\t5.97\n",
      "----------------------------------------\n",
      "4\t\t|\t7.96\n",
      "----------------------------------------\n",
      "5\t\t|\t9.95\n",
      "----------------------------------------\n",
      "6\t\t|\t11.94\n",
      "----------------------------------------\n",
      "7\t\t|\t13.93\n",
      "----------------------------------------\n",
      "8\t\t|\t15.92\n",
      "----------------------------------------\n",
      "9\t\t|\t17.91\n",
      "----------------------------------------\n",
      "10\t\t|\t19.9\n",
      "----------------------------------------\n",
      "11\t\t|\t21.89\n",
      "----------------------------------------\n",
      "12\t\t|\t23.88\n",
      "----------------------------------------\n",
      "13\t\t|\t25.87\n",
      "----------------------------------------\n",
      "14\t\t|\t27.86\n",
      "----------------------------------------\n",
      "15\t\t|\t29.85\n",
      "----------------------------------------\n",
      "16\t\t|\t31.84\n",
      "----------------------------------------\n",
      "17\t\t|\t33.83\n",
      "----------------------------------------\n",
      "18\t\t|\t35.82\n",
      "----------------------------------------\n",
      "19\t\t|\t37.81\n",
      "----------------------------------------\n",
      "20\t\t|\t39.8\n",
      "----------------------------------------\n",
      "21\t\t|\t41.79\n",
      "----------------------------------------\n",
      "22\t\t|\t43.78\n",
      "----------------------------------------\n",
      "23\t\t|\t45.77\n",
      "----------------------------------------\n",
      "24\t\t|\t47.76\n",
      "----------------------------------------\n",
      "25\t\t|\t49.75\n",
      "----------------------------------------\n",
      "26\t\t|\t51.74\n",
      "----------------------------------------\n",
      "27\t\t|\t53.73\n",
      "----------------------------------------\n",
      "28\t\t|\t55.72\n",
      "----------------------------------------\n",
      "29\t\t|\t57.71\n",
      "----------------------------------------\n",
      "30\t\t|\t59.7\n",
      "----------------------------------------\n",
      "31\t\t|\t61.69\n",
      "----------------------------------------\n",
      "32\t\t|\t63.68\n",
      "----------------------------------------\n",
      "33\t\t|\t65.67\n",
      "----------------------------------------\n",
      "34\t\t|\t67.66\n",
      "----------------------------------------\n",
      "35\t\t|\t69.65\n",
      "----------------------------------------\n",
      "36\t\t|\t71.64\n",
      "----------------------------------------\n",
      "37\t\t|\t73.63\n",
      "----------------------------------------\n",
      "38\t\t|\t75.62\n",
      "----------------------------------------\n",
      "39\t\t|\t77.61\n",
      "----------------------------------------\n",
      "40\t\t|\t79.6\n",
      "----------------------------------------\n",
      "41\t\t|\t81.59\n",
      "----------------------------------------\n",
      "42\t\t|\t83.58\n",
      "----------------------------------------\n",
      "43\t\t|\t85.57\n",
      "----------------------------------------\n",
      "44\t\t|\t87.56\n",
      "----------------------------------------\n",
      "45\t\t|\t89.55\n",
      "----------------------------------------\n",
      "46\t\t|\t91.54\n",
      "----------------------------------------\n",
      "47\t\t|\t93.53\n",
      "----------------------------------------\n",
      "48\t\t|\t95.52\n",
      "----------------------------------------\n",
      "49\t\t|\t97.51\n",
      "----------------------------------------\n",
      "50\t\t|\t99.5\n",
      "----------------------------------------\n"
     ]
    }
   ],
   "source": [
    "itens = list(range(1,51))\n",
    "preco = []\n",
    "a = 0\n",
    "\n",
    "for item in itens:\n",
    "    valor = item * 1.99\n",
    "    preco.append(valor)\n",
    "\n",
    "print(40 * '-')\n",
    "print('Quantidade' + '\\t' + '|' + '\\t' + 'Preco')\n",
    "print(40 * '-')\n",
    "\n",
    "while(a < len(itens) or a < len(preco)):\n",
    "    print( '{}'.format(itens[a]) + (2 * '\\t') + '|' + '\\t' + '{}'.format(preco[a]))\n",
    "    print(40 * '-')\n",
    "    a += 1"
   ]
  },
  {
   "cell_type": "markdown",
   "metadata": {},
   "source": [
    "#### 22. O Sr. Manoel Joaquim expandiu seus negócios para além dos negócios de 1,99 e agora possui uma loja de conveniências. \n",
    "#### Faça um programa que implemente uma caixa registradora rudimentar. \n",
    "#### O programa deverá receber um número desconhecido de valores referentes aos preços das mercadorias. \n",
    "#### Um valor zero deve ser informado pelo operador para indicar o final da compra. \n",
    "#### O programa deve então mostrar o total da compra e perguntar o valor em dinheiro que o cliente forneceu, para então calcular e mostrar o valor do troco. \n",
    "#### Após esta operação, o programa deverá voltar ao ponto inicial, para registrar a próxima compra. \n",
    "#### A saída deve ser conforme o exemplo abaixo: \n",
    "#### Lojas Tabajara \n",
    "#### Produto 1: 2.20 \n",
    "#### Produto 2: 5.80 \n",
    "#### Produto 3: 0 \n",
    "#### Total: 9.00 \n",
    "#### Dinheiro: 20.00 \n",
    "#### Troco: 11.00 \n",
    "#### ... "
   ]
  },
  {
   "cell_type": "code",
   "execution_count": null,
   "metadata": {},
   "outputs": [
    {
     "name": "stdout",
     "output_type": "stream",
     "text": [
      "Preço do produto: 2.20\n",
      "Preço do produto: 5.8\n",
      "Preço do produto: 0\n",
      "--------------------\n",
      "Produto 1: R$ 2.2\n",
      "--------------------\n",
      "Produto 2: R$ 5.8\n",
      "--------------------\n",
      "TOTAL: R$ 8.0\n",
      "Dinheiro: 20.00\n",
      "Troco: R$12.0 \n",
      "\n"
     ]
    }
   ],
   "source": [
    "while(True):\n",
    "    valor = -1\n",
    "    precos = []\n",
    "    cont = 0\n",
    "    falta = 0\n",
    "    while(valor != 0):\n",
    "        valor = float(input(\"Preço do produto: \"))\n",
    "        precos.append(valor)\n",
    "    else:\n",
    "        quantidade = list(range(1, len(precos)))\n",
    "        total_compra = sum(precos)\n",
    "        while(cont <= (len(quantidade)- 1)):\n",
    "            print(20 * '-')\n",
    "            print('Produto {}: R$ {}'.format(quantidade[cont], precos[cont]))\n",
    "            cont += 1\n",
    "        print(20 * '-' + f'\\nTOTAL: R$ {total_compra}')\n",
    "        recebimento = float(input(\"Dinheiro: \"))\n",
    "        if(recebimento < total_compra):\n",
    "            a_receber = total_compra - recebimento\n",
    "            while(falta < a_receber):\n",
    "                falta = float(input(f\"Falta receber R$ {a_receber}, Adicione esse valor: \"))\n",
    "            print(\"Troco: R${} \\n\".format((recebimento + falta) - total_compra))\n",
    "        else:\n",
    "            print(\"Troco: R${} \\n\".format(recebimento - total_compra))\n",
    "    continue"
   ]
  },
  {
   "cell_type": "markdown",
   "metadata": {},
   "source": [
    "#### 23- Foi feita uma estatística em cinco cidades brasileiras para coletar dados sobre acidentes de trânsito. \n",
    "#### Foram obtidos os seguintes dados: \n",
    "#### - Código da cidade; \n",
    "#### - Número de veículos de passeio (em 1999); \n",
    "#### - Número de acidentes de trânsito com vítimas (em 1999). \n",
    "#### - Deseja-se saber: \n",
    "#### - Qual o maior e menor índice de acidentes de transito e a que cidade pertence; \n",
    "#### - Qual a média de veículos nas cinco cidades juntas; \n",
    "#### - Qual a média de acidentes de trânsito nas cidades com menos de 2.000 veículos de passeio. "
   ]
  },
  {
   "cell_type": "code",
   "execution_count": null,
   "metadata": {},
   "outputs": [],
   "source": [
    "a = 0\n",
    "estatistica = []\n",
    "cont = 0\n",
    "lista1 = []\n",
    "\n",
    "while(a < 3):\n",
    "    lista = []\n",
    "    id_cidade = int(input(\"Adicione o código da cidade: \"))\n",
    "    n_carros = int(input(\"Adicione a quantidade de carros: \"))\n",
    "    n_acidentes = int(input(\"Adicione o número de acidentes de transito: \"))\n",
    "    lista = [id_cidade, n_carros, n_acidentes]\n",
    "    estatistica.append(lista)\n",
    "    a += 1\n",
    "\n",
    "acidentes = {row[0]:row[2] for row in estatistica}\n",
    "chaves = list(acidentes.keys())\n",
    "valores = list(acidentes.values())\n",
    "\n",
    "maior = max(valores)\n",
    "indice_maior = valores.index(maior)\n",
    "print(\"\\n O maior índice de acidentes é %d, onde o código da cidade é %d\" %(maior, chaves[indice_maior]))\n",
    "menor = min(valores)\n",
    "indice_menor = valores.index(menor)\n",
    "print(\"\\n O menor índice de acidentes é %d, onde o código da cidade é %d\" %(menor, chaves[indice_menor]))\n",
    "\n",
    "veiculos = [row[1] for row in estatistica]\n",
    "media = sum(veiculos)/len(veiculos)\n",
    "print(\"\\n A média de veículos nas 5 cidades é %.2f\" %(media))\n",
    "\n",
    "cidade_acidente = {row[0]:row[2] for row in estatistica}\n",
    "cidade_acidente_k = list(cidade_acidente.keys())\n",
    "cidade_acidente_v = list(cidade_acidente.values())\n",
    "\n",
    "cidade_veiculo = {row[0]:row[1] for row in estatistica}\n",
    "cidade_veiculo_k = list(cidade_veiculo.keys())\n",
    "cidade_veiculo_v = list(cidade_veiculo.values())\n",
    "\n",
    "for carro in cidade_veiculo_v:\n",
    "    if(carro < 2000):\n",
    "        indice_carro = cidade_veiculo_v.index(carro)\n",
    "        lista1 += [cidade_acidente_v[indice_carro]]\n",
    "        \n",
    "mediaCalculada = sum(lista1)/len(lista1)\n",
    "print('\\n A média de acidentes nas cidades onde os veículos são menores que 2000 é: %.2f' %(mediaCalculada))"
   ]
  },
  {
   "cell_type": "markdown",
   "metadata": {},
   "source": [
    "#### 24- Faça um programa que receba o valor de uma dívida e mostre uma tabela com os seguintes dados: valor da dívida, valor dos juros, quantidade de parcelas e valor da parcela. \n",
    "#### Os juros e a quantidade de parcelas seguem a tabela abaixo: \n",
    "#### Quantidade de Parcelas ------- % de Juros sobre o valor inicial da dívida \n",
    "#### 1 --------------------------------------------------------- 0 \n",
    "#### 3 --------------------------------------------------------- 10 \n",
    "#### 6 --------------------------------------------------------- 15 \n",
    "#### 9 --------------------------------------------------------- 20 \n",
    "#### 12 -------------------------------------------------------- 25 \n",
    "#### Exemplo de saída do programa: \n",
    "#### Valor da Dívida --------- Valor dos Juros --------- Quantidade de Parcelas --------- Valor da Parcela\n",
    "#### 1.000,00 ----------------------------- 0 ------------------------------- 1 --------------------------------- 1.000,00\n",
    "#### 1.100,00 ----------------------------- 100 ----------------------------- 3 --------------------------------- 366,00\n",
    "#### 1.150,00 ----------------------------- 150 ----------------------------- 6 --------------------------------- 191,67"
   ]
  },
  {
   "cell_type": "code",
   "execution_count": null,
   "metadata": {},
   "outputs": [],
   "source": [
    "divida = float(input(\"Adicione o valor da dívida: \"))\n",
    "parcelas = [1, 3, 6, 9, 12]\n",
    "juros = [ 0, .10, .15, .20, .25]\n",
    "b = 0\n",
    "\n",
    "def valor_juros(valor_divida, valor_porcentagem):\n",
    "    return valor_divida * valor_porcentagem\n",
    "\n",
    "def valor_parcela(valor_divida, quantidade_parcelas):\n",
    "    return valor_divida / quantidade_parcelas\n",
    "\n",
    "def calcula_divida(valor_divida, valor_juros):\n",
    "    return valor_divida + valor_juros\n",
    "\n",
    "print(125 * '-')\n",
    "print('Valor da Dívida' + (2 * '\\t') + '|' + ('\\t') + 'Valor dos Juros' + (2 * '\\t') + '|' + ('\\t') + \n",
    "                             'Quantidade de Parcelas' + (2 * '\\t') + '|' + ('\\t') + 'Valor da Parcela')\n",
    "while(b < 5):\n",
    "    vlr_juros = valor_juros(divida, juros[b])\n",
    "    vlr_divida = calcula_divida(divida, vlr_juros)\n",
    "    qtdParcelas = parcelas[b]\n",
    "    vlr_parcela = valor_parcela(vlr_divida, qtdParcelas)\n",
    "    print(125 * '-')\n",
    "    print('%.2f'%(vlr_divida) + (3 * '\\t') + '|' + ('\\t') + '%.2f'%(vlr_juros) + (3 * '\\t') + '|' + ('\\t') + \n",
    "                             '%d'%(qtdParcelas) + (4 * '\\t') + '|' + ('\\t') + '%.2f'%(vlr_parcela))\n",
    "    \n",
    "    b += 1"
   ]
  },
  {
   "cell_type": "markdown",
   "metadata": {},
   "source": [
    "#### 25- Faça um programa que mostre os n termos da Série a seguir: \n",
    "#### S = 1/1 + 2/3 + 3/5 + 4/7 + 5/9 + ... + n/m. \n",
    "#### Imprima no final a soma da série. "
   ]
  },
  {
   "cell_type": "code",
   "execution_count": null,
   "metadata": {},
   "outputs": [],
   "source": [
    "n = int(input(\"Adicione o n-ésimo termo: \"))\n",
    "lista = list(range(1, n + 1))\n",
    "cont = 0\n",
    "a = 1\n",
    "b = 0\n",
    "while(cont < len(lista)):\n",
    "    b += (lista[cont]/a)\n",
    "    a += 2\n",
    "    cont += 1\n",
    "print('Soma da série = %.2f' %(b))"
   ]
  },
  {
   "cell_type": "code",
   "execution_count": null,
   "metadata": {},
   "outputs": [],
   "source": []
  }
 ],
 "metadata": {
  "kernelspec": {
   "display_name": "Python 3",
   "language": "python",
   "name": "python3"
  },
  "language_info": {
   "codemirror_mode": {
    "name": "ipython",
    "version": 3
   },
   "file_extension": ".py",
   "mimetype": "text/x-python",
   "name": "python",
   "nbconvert_exporter": "python",
   "pygments_lexer": "ipython3",
   "version": "3.7.6"
  }
 },
 "nbformat": 4,
 "nbformat_minor": 2
}
