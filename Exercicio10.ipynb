{
 "cells": [
  {
   "cell_type": "markdown",
   "metadata": {},
   "source": [
    "Exercícios10 - Lista de Exercícios Python\n",
    " \n",
    "### Walysson Feitosa dos Santos RA: 816121847 "
   ]
  },
  {
   "cell_type": "markdown",
   "metadata": {},
   "source": [
    "#### Agora você deve utilizar\n",
    "#### maybe monads para fazer o tratamento de exceções quando necessário. Continue\n",
    "#### fazendo testes unitários usando asserts\n",
    "#### 1- Defina a função soma_nat que recebe como argumento um número natural n e devolve a soma de todos os números naturais até n."
   ]
  },
  {
   "cell_type": "code",
   "execution_count": 1,
   "metadata": {},
   "outputs": [
    {
     "name": "stdout",
     "output_type": "stream",
     "text": [
      "36\n"
     ]
    }
   ],
   "source": [
    "def soma_nat(n):\n",
    "    return 1 if n == 1 else n+soma_nat(n-1)\n",
    "\n",
    "print(soma_nat(8))"
   ]
  },
  {
   "cell_type": "markdown",
   "metadata": {},
   "source": [
    "#### 2- Defina a função div que recebe como argumentos dois números naturais m e n e devolve o resultado da divisão inteira de m por n. \n",
    "#### Neste exercício você não pode recorrer às operações aritméticas de multiplicação, divisão e resto da divisão inteira."
   ]
  },
  {
   "cell_type": "code",
   "execution_count": 2,
   "metadata": {},
   "outputs": [
    {
     "name": "stdout",
     "output_type": "stream",
     "text": [
      "0\n"
     ]
    }
   ],
   "source": [
    "def div(m, n):\n",
    "    return 0 if (m < n) else 1+div((m-n), n)\n",
    "\n",
    "print(div(1,40))"
   ]
  },
  {
   "cell_type": "markdown",
   "metadata": {},
   "source": [
    "#### 3- Defina a função prim_alg que recebe como argumento um número natural e devolve o primeiro algarismo (o mais significativo) na representação decimal de n."
   ]
  },
  {
   "cell_type": "code",
   "execution_count": 3,
   "metadata": {},
   "outputs": [
    {
     "name": "stdout",
     "output_type": "stream",
     "text": [
      "1\n",
      "2\n"
     ]
    }
   ],
   "source": [
    "def prim_alg(n):\n",
    "    assert n!=\"0\"\n",
    "    return print(n[0])\n",
    "prim_alg(\"159753\")\n",
    "prim_alg(\"2\")"
   ]
  },
  {
   "cell_type": "markdown",
   "metadata": {},
   "source": [
    "#### 4- Defina a função contem_parQ que recebe como argumento uma lista de números inteiros w e devolve True se w contém um número par e False em caso contrário."
   ]
  },
  {
   "cell_type": "code",
   "execution_count": 4,
   "metadata": {},
   "outputs": [
    {
     "name": "stdout",
     "output_type": "stream",
     "text": [
      "True\n",
      "True\n"
     ]
    }
   ],
   "source": [
    "def contem_parQ(lista):\n",
    "\n",
    "        if (lista==[]):\n",
    "            print(False)\n",
    "        else:\n",
    "            if (lista[len(lista)-1]%2==0):\n",
    "                print (lista[len(lista)-1]%2==0)\n",
    "            else:\n",
    "                lista.pop(len(lista)-1)\n",
    "                contem_parQ(lista)\n",
    "            \n",
    "lista=([6,1,7,5,3,1])\n",
    "contem_parQ(lista)\n",
    "\n",
    "lista=([2,4,8,10])\n",
    "contem_parQ(lista)"
   ]
  },
  {
   "cell_type": "markdown",
   "metadata": {},
   "source": [
    "#### 5- Defina a função todos_imparesQ que recebe como argumento uma lista de números inteiros w e devolve True se w contém apenas números ímpares e False em caso contrário."
   ]
  },
  {
   "cell_type": "code",
   "execution_count": 5,
   "metadata": {},
   "outputs": [
    {
     "name": "stdout",
     "output_type": "stream",
     "text": [
      "False\n",
      "False\n",
      "False\n"
     ]
    }
   ],
   "source": [
    "def todos_imparesQ(lista):\n",
    "\n",
    "        if (lista==[] or len(lista)==1):\n",
    "            print(True)\n",
    "        else:\n",
    "            if (lista[len(lista)-1]%2==0):\n",
    "                print(False)\n",
    "            else:\n",
    "                lista.pop(len(lista)-1)\n",
    "                todos_imparesQ(lista)\n",
    "            \n",
    "lista=([21,13,57,22])\n",
    "todos_imparesQ(lista)\n",
    "\n",
    "lista=([24,77,98,57])\n",
    "todos_imparesQ(lista)\n",
    "\n",
    "lista=([9,8,7,5,4])\n",
    "todos_imparesQ(lista)"
   ]
  },
  {
   "cell_type": "markdown",
   "metadata": {},
   "source": [
    "#### 6 Defina a função todos_imparesQ que recebe como argumento uma lista de\n",
    "#### números inteiros w e devolve True se w contém apenas números ímpares e False\n",
    "#### em caso contrário.\n",
    "#### Ex: todos_imparesQ([1,3,5,7]) = True\n",
    "#### Ex: todos_imparesQ([]) = True\n",
    "#### Ex: todos_imparesQ([1,2,3,4,5]) = False"
   ]
  },
  {
   "cell_type": "code",
   "execution_count": 1,
   "metadata": {},
   "outputs": [
    {
     "name": "stdout",
     "output_type": "stream",
     "text": [
      "true\n"
     ]
    }
   ],
   "source": [
    "def impares(a,b,c,d):\n",
    "    condicao = 0\n",
    "    cont = 0\n",
    "    retorno = \"false\"\n",
    "    for n in [a,b,c,d]:\n",
    "        cont += 1\n",
    "        if n % 2 != 0:\n",
    "            condicao +=1 \n",
    "        if condicao == 4:\n",
    "            retorno = \"true\"\n",
    "\n",
    "    return retorno\n",
    "            \n",
    "     \n",
    "print(impares(1,3,7,9))"
   ]
  },
  {
   "cell_type": "code",
   "execution_count": null,
   "metadata": {},
   "outputs": [],
   "source": []
  }
 ],
 "metadata": {
  "kernelspec": {
   "display_name": "Python 3",
   "language": "python",
   "name": "python3"
  },
  "language_info": {
   "codemirror_mode": {
    "name": "ipython",
    "version": 3
   },
   "file_extension": ".py",
   "mimetype": "text/x-python",
   "name": "python",
   "nbconvert_exporter": "python",
   "pygments_lexer": "ipython3",
   "version": "3.7.6"
  }
 },
 "nbformat": 4,
 "nbformat_minor": 2
}
